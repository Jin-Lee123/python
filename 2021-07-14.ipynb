{
 "cells": [
  {
   "cell_type": "code",
   "execution_count": 7,
   "id": "b8588de6",
   "metadata": {},
   "outputs": [
    {
     "name": "stdout",
     "output_type": "stream",
     "text": [
      "가격을 입력하세요 :100\n",
      "갯수를 입력하세요. :5\n",
      "총액은 500 입니다.\n"
     ]
    }
   ],
   "source": [
    "price = input(\"가격을 입력하세요 :\")\n",
    "num = input('갯수를 입력하세요. :')\n",
    "sum = int(price) * int(num)\n",
    "print(\"총액은\", sum ,\"입니다.\")"
   ]
  },
  {
   "cell_type": "code",
   "execution_count": 5,
   "id": "993d7a02",
   "metadata": {},
   "outputs": [
    {
     "name": "stdout",
     "output_type": "stream",
     "text": [
      "가격을 입력하세요.:100\n",
      "갯수를 입력하세요.:5\n",
      "총액은 500 입니다.\n"
     ]
    }
   ],
   "source": [
    "price = int(input(\"가격을 입력하세요.:\"))\n",
    "num = int(input(\"갯수를 입력하세요.:\"))\n",
    "sum = price * num\n",
    "print(\"총액은\", sum ,\"입니다.\")\n"
   ]
  },
  {
   "cell_type": "code",
   "execution_count": 6,
   "id": "85b7c032",
   "metadata": {},
   "outputs": [
    {
     "name": "stdout",
     "output_type": "stream",
     "text": [
      "26\n"
     ]
    }
   ],
   "source": [
    "a = 0x1a\n",
    "print(a)"
   ]
  },
  {
   "cell_type": "code",
   "execution_count": 13,
   "id": "e899af8c",
   "metadata": {},
   "outputs": [
    {
     "name": "stdout",
     "output_type": "stream",
     "text": [
      "31536000\n"
     ]
    }
   ],
   "source": [
    "totalsec = 365 * 24 * \\\n",
    "60 * 60\n",
    "print(totalsec)"
   ]
  },
  {
   "cell_type": "code",
   "execution_count": 9,
   "id": "7b3e6190",
   "metadata": {},
   "outputs": [
    {
     "name": "stdout",
     "output_type": "stream",
     "text": [
      "Koreajapan2020\n"
     ]
    }
   ],
   "source": [
    "s = (\"Korea\"\n",
    "    \"japan\"\n",
    "    \"2020\")\n",
    "print(s)"
   ]
  },
  {
   "cell_type": "code",
   "execution_count": 14,
   "id": "6d2d32e9",
   "metadata": {},
   "outputs": [
    {
     "data": {
      "text/plain": [
       "int"
      ]
     },
     "execution_count": 14,
     "metadata": {},
     "output_type": "execute_result"
    }
   ],
   "source": [
    "a=1234\n",
    "type(a)"
   ]
  },
  {
   "cell_type": "code",
   "execution_count": 15,
   "id": "74ad705f",
   "metadata": {},
   "outputs": [
    {
     "data": {
      "text/plain": [
       "str"
      ]
     },
     "execution_count": 15,
     "metadata": {},
     "output_type": "execute_result"
    }
   ],
   "source": [
    "a='string'\n",
    "type(a)"
   ]
  },
  {
   "cell_type": "code",
   "execution_count": 16,
   "id": "a3e57925",
   "metadata": {},
   "outputs": [
    {
     "name": "stdout",
     "output_type": "stream",
     "text": [
      "대한민국만세\n"
     ]
    }
   ],
   "source": [
    "s1 = \"대한민국\"\n",
    "s2 = \"만세\"\n",
    "print(s1 + s2)"
   ]
  },
  {
   "cell_type": "code",
   "execution_count": 17,
   "id": "5f4efc33",
   "metadata": {},
   "outputs": [
    {
     "name": "stdout",
     "output_type": "stream",
     "text": [
      "싫어싫어싫어싫어싫어\n"
     ]
    }
   ],
   "source": [
    "print(\"싫어\" * 5)"
   ]
  },
  {
   "cell_type": "code",
   "execution_count": 19,
   "id": "7f2abb2f",
   "metadata": {},
   "outputs": [
    {
     "name": "stdout",
     "output_type": "stream",
     "text": [
      "2\n",
      "3\n",
      "2.5\n",
      "123457000\n"
     ]
    }
   ],
   "source": [
    "print(int(2.54))\n",
    "print(round(2.54))\n",
    "print(round(2.51, 1))\n",
    "print(round(123456789, -3))"
   ]
  },
  {
   "cell_type": "code",
   "execution_count": 21,
   "id": "71e83aee",
   "metadata": {},
   "outputs": [
    {
     "name": "stdout",
     "output_type": "stream",
     "text": [
      "6\n",
      "45\n",
      "54\n"
     ]
    }
   ],
   "source": [
    "def intsum(*ints):\n",
    "    sum = 0\n",
    "    for num in ints:\n",
    "        sum += num\n",
    "    return sum\n",
    "\n",
    "print(intsum(1,2,3))\n",
    "print(intsum(5,7,9,11,13))\n",
    "print(intsum(8,9,6,2,9,7,5,8))"
   ]
  },
  {
   "cell_type": "code",
   "execution_count": 27,
   "id": "f3f36ee8",
   "metadata": {},
   "outputs": [
    {
     "name": "stdout",
     "output_type": "stream",
     "text": [
      "1~10 =  55\n",
      "1~100 =  5050\n"
     ]
    }
   ],
   "source": [
    "def calcstep(begin, end, step=1):\n",
    "    sum = 0\n",
    "    for num in range(begin, end +1, step):\n",
    "        sum += num\n",
    "    return sum\n",
    "print (\"1~10 = \", calcstep(1,10,1))\n",
    "print (\"1~100 = \", calcstep(1,100))"
   ]
  },
  {
   "cell_type": "code",
   "execution_count": 28,
   "id": "4fa878af",
   "metadata": {},
   "outputs": [
    {
     "name": "stdout",
     "output_type": "stream",
     "text": [
      "good morning. my love kim.\n",
      "GOOD MORNING. MY LOVE KIM.\n",
      "Good morning. my love KIM.\n",
      "gOOD MORNING. MY LOVE kim.\n",
      "Good morning. my love kim.\n",
      "Good Morning. My Love Kim.\n"
     ]
    }
   ],
   "source": [
    "s = \"Good morning. my love KIM.\"\n",
    "print(s.lower())\n",
    "print(s.upper())\n",
    "print(s)\n",
    "\n",
    "print(s.swapcase())\n",
    "print(s.capitalize())\n",
    "print(s.title())"
   ]
  },
  {
   "cell_type": "code",
   "execution_count": 29,
   "id": "1e29cfe4",
   "metadata": {},
   "outputs": [
    {
     "name": "stdout",
     "output_type": "stream",
     "text": [
      "8월 15일은 광복절이다.\n"
     ]
    }
   ],
   "source": [
    "month = 8\n",
    "day = 15\n",
    "anni = \"광복절\"\n",
    "print(\"%d월 %d일은 %s이다.\"%(month, day,anni))"
   ]
  },
  {
   "cell_type": "code",
   "execution_count": 30,
   "id": "37cfb8eb",
   "metadata": {},
   "outputs": [
    {
     "name": "stdout",
     "output_type": "stream",
     "text": [
      "가격:30원\n",
      "가격:13500원\n",
      "가격:2000원\n",
      "가격:     30원\n",
      "가격:  13500원\n",
      "가격:   2000원\n"
     ]
    }
   ],
   "source": [
    "price = [30,13500,2000]\n",
    "for p in price:\n",
    "    print(\"가격:%d원\" %p)\n",
    "for p in price:\n",
    "    print(\"가격:%7d원\" %p)"
   ]
  },
  {
   "cell_type": "code",
   "execution_count": 31,
   "id": "6fd98473",
   "metadata": {},
   "outputs": [
    {
     "name": "stdout",
     "output_type": "stream",
     "text": [
      "  3.141593\n",
      "3.14159265\n",
      "   3.14159\n",
      "      3.14\n"
     ]
    }
   ],
   "source": [
    "pie = 3.14159265\n",
    "print(\"%10f\" %pie)\n",
    "print(\"%10.8f\" %pie)\n",
    "print(\"%10.5f\" %pie)\n",
    "print(\"%10.2f\" %pie)"
   ]
  },
  {
   "cell_type": "code",
   "execution_count": 32,
   "id": "40eb6d1b",
   "metadata": {},
   "outputs": [
    {
     "name": "stdout",
     "output_type": "stream",
     "text": [
      "총점 :  452\n",
      "평균 :  90.4\n"
     ]
    }
   ],
   "source": [
    "score = [88,95,70,100,99]\n",
    "sum = 0\n",
    "for s in score:\n",
    "    sum += s\n",
    "print(\"총점 : \",sum)\n",
    "print(\"평균 : \",sum/len(score))"
   ]
  },
  {
   "cell_type": "code",
   "execution_count": 33,
   "id": "141dc163",
   "metadata": {},
   "outputs": [
    {
     "name": "stdout",
     "output_type": "stream",
     "text": [
      "[2, 3, 4]\n",
      "[0, 1, 2, 3]\n",
      "[6, 7, 8, 9]\n",
      "[1, 3, 5]\n"
     ]
    }
   ],
   "source": [
    "nums = [0,1,2,3,4,5,6,7,8,9]\n",
    "print(nums[2:5])\n",
    "print(nums[:4])\n",
    "print(nums[6:])\n",
    "print(nums[1:7:2])"
   ]
  },
  {
   "cell_type": "code",
   "execution_count": 34,
   "id": "6309eea7",
   "metadata": {},
   "outputs": [
    {
     "name": "stdout",
     "output_type": "stream",
     "text": [
      "70\n",
      "55\n"
     ]
    }
   ],
   "source": [
    "score = [88,95,70,100,99]\n",
    "print(score[2])\n",
    "score[2] = 55\n",
    "print(score[2])"
   ]
  },
  {
   "cell_type": "code",
   "execution_count": 35,
   "id": "347e0e5e",
   "metadata": {},
   "outputs": [
    {
     "name": "stdout",
     "output_type": "stream",
     "text": [
      "[0, 1, 20, 30, 40, 5, 6, 7, 8, 9]\n",
      "[0, 1, 20, 30, 40, 5, 90, 91, 92, 93, 94, 8, 9]\n"
     ]
    }
   ],
   "source": [
    "nums = [0,1,2,3,4,5,6,7,8,9]\n",
    "nums[2:5] = [20,30,40]\n",
    "print(nums)\n",
    "nums[6:8] = [90,91,92,93,94]\n",
    "print(nums)"
   ]
  },
  {
   "cell_type": "code",
   "execution_count": 36,
   "id": "e9b7db7a",
   "metadata": {},
   "outputs": [
    {
     "name": "stdout",
     "output_type": "stream",
     "text": [
      "[1, 2, 3]\n",
      "7\n",
      "123\n",
      "45\n",
      "6789\n"
     ]
    }
   ],
   "source": [
    "lol = [[1,2,3], [4,5], [6,7,8,9]]\n",
    "print(lol[0])\n",
    "print(lol[2][1])\n",
    "\n",
    "for sub in lol:\n",
    "    for item in sub:\n",
    "        print(item, end='')\n",
    "    print()"
   ]
  },
  {
   "cell_type": "code",
   "execution_count": 37,
   "id": "4336579d",
   "metadata": {},
   "outputs": [
    {
     "name": "stdout",
     "output_type": "stream",
     "text": [
      "[1, 2, 99, 3, 4, 5]\n"
     ]
    }
   ],
   "source": [
    "nums = [1,2,3,4]\n",
    "nums.append(5)\n",
    "nums.insert(2,99)\n",
    "print(nums)"
   ]
  },
  {
   "cell_type": "code",
   "execution_count": 38,
   "id": "6a6c5c68",
   "metadata": {},
   "outputs": [
    {
     "name": "stdout",
     "output_type": "stream",
     "text": [
      "[1, 2, 90, 91, 92, 3, 4]\n",
      "[1, 2, [90, 91, 92], 4]\n"
     ]
    }
   ],
   "source": [
    "nums = [1,2,3,4]\n",
    "nums[2:2] = [90,91,92]\n",
    "print(nums)\n",
    "\n",
    "nums = [1,2,3,4]\n",
    "nums[2]=[90,91,92]\n",
    "print(nums)"
   ]
  },
  {
   "cell_type": "code",
   "execution_count": 39,
   "id": "b96c440f",
   "metadata": {},
   "outputs": [
    {
     "name": "stdout",
     "output_type": "stream",
     "text": [
      "[88, 95, 70, 99, 80, 78, 50]\n",
      "[88, 95, 99, 80, 78, 50]\n",
      "[88, 78, 50]\n"
     ]
    }
   ],
   "source": [
    "score = [88,95,70,100,99,80,78,50]\n",
    "score.remove(100)\n",
    "print(score)\n",
    "del(score[2])\n",
    "print(score)\n",
    "score[1:4] = []\n",
    "print(score)"
   ]
  },
  {
   "cell_type": "code",
   "execution_count": 40,
   "id": "ec2d3e47",
   "metadata": {},
   "outputs": [
    {
     "name": "stdout",
     "output_type": "stream",
     "text": [
      "4\n",
      "(2, 3, 4)\n",
      "(1, 2, 3, 4, 5, 6, 7)\n",
      "(1, 2, 3, 4, 5, 1, 2, 3, 4, 5)\n"
     ]
    },
    {
     "ename": "TypeError",
     "evalue": "'tuple' object does not support item assignment",
     "output_type": "error",
     "traceback": [
      "\u001b[1;31m---------------------------------------------------------------------------\u001b[0m",
      "\u001b[1;31mTypeError\u001b[0m                                 Traceback (most recent call last)",
      "\u001b[1;32m<ipython-input-40-4f4f3cc7ad80>\u001b[0m in \u001b[0;36m<module>\u001b[1;34m\u001b[0m\n\u001b[0;32m      4\u001b[0m \u001b[0mprint\u001b[0m\u001b[1;33m(\u001b[0m\u001b[0mtu\u001b[0m \u001b[1;33m+\u001b[0m \u001b[1;33m(\u001b[0m\u001b[1;36m6\u001b[0m\u001b[1;33m,\u001b[0m\u001b[1;36m7\u001b[0m\u001b[1;33m)\u001b[0m\u001b[1;33m)\u001b[0m\u001b[1;33m\u001b[0m\u001b[1;33m\u001b[0m\u001b[0m\n\u001b[0;32m      5\u001b[0m \u001b[0mprint\u001b[0m\u001b[1;33m(\u001b[0m\u001b[0mtu\u001b[0m \u001b[1;33m*\u001b[0m \u001b[1;36m2\u001b[0m\u001b[1;33m)\u001b[0m\u001b[1;33m\u001b[0m\u001b[1;33m\u001b[0m\u001b[0m\n\u001b[1;32m----> 6\u001b[1;33m \u001b[0mtu\u001b[0m\u001b[1;33m[\u001b[0m\u001b[1;36m1\u001b[0m\u001b[1;33m]\u001b[0m \u001b[1;33m=\u001b[0m \u001b[1;36m100\u001b[0m\u001b[1;33m\u001b[0m\u001b[1;33m\u001b[0m\u001b[0m\n\u001b[0m\u001b[0;32m      7\u001b[0m \u001b[1;32mdel\u001b[0m \u001b[0mtu\u001b[0m\u001b[1;33m[\u001b[0m\u001b[1;36m1\u001b[0m\u001b[1;33m]\u001b[0m\u001b[1;33m\u001b[0m\u001b[1;33m\u001b[0m\u001b[0m\n",
      "\u001b[1;31mTypeError\u001b[0m: 'tuple' object does not support item assignment"
     ]
    }
   ],
   "source": [
    "tu = 1,2,3,4,5\n",
    "print(tu[3])\n",
    "print(tu[1:4])\n",
    "print(tu + (6,7))\n",
    "print(tu * 2)\n",
    "tu[1] = 100\n",
    "del tu[1]"
   ]
  },
  {
   "cell_type": "code",
   "execution_count": 41,
   "id": "591da59b",
   "metadata": {},
   "outputs": [
    {
     "name": "stdout",
     "output_type": "stream",
     "text": [
      "이순신\n",
      "김유신\n",
      "강감찬\n"
     ]
    }
   ],
   "source": [
    "tu = \"이순신\", \"김유신\", \"강감찬\"\n",
    "lee,kim,kang = tu\n",
    "print(lee)\n",
    "print(kim)\n",
    "print(kang)"
   ]
  },
  {
   "cell_type": "code",
   "execution_count": 42,
   "id": "c1b9a5d2",
   "metadata": {},
   "outputs": [
    {
     "name": "stdout",
     "output_type": "stream",
     "text": [
      "지금은 16시 25분입니다.\n"
     ]
    }
   ],
   "source": [
    "import time\n",
    "\n",
    "def gettime():\n",
    "    now = time.localtime()\n",
    "    return now.tm_hour, now.tm_min\n",
    "\n",
    "result = gettime()\n",
    "print(\"지금은 %d시 %d분입니다.\" %(result[0], result[1]))"
   ]
  },
  {
   "cell_type": "code",
   "execution_count": 44,
   "id": "15208ab3",
   "metadata": {},
   "outputs": [
    {
     "name": "stdout",
     "output_type": "stream",
     "text": [
      "{'boy': '소년', 'school': '학교', 'book': '책'}\n",
      "소년\n",
      "책\n"
     ]
    }
   ],
   "source": [
    "dic = { 'boy':'소년', 'school':'학교', 'book':'책'}\n",
    "print(dic)\n",
    "print(dic['boy'])\n",
    "print(dic['book'])"
   ]
  },
  {
   "cell_type": "code",
   "execution_count": 45,
   "id": "f53f44ee",
   "metadata": {},
   "outputs": [
    {
     "name": "stdout",
     "output_type": "stream",
     "text": [
      "None\n",
      "사전에 없는 단어입니다.\n"
     ]
    }
   ],
   "source": [
    "dic = { 'boy':'소년', 'school':'학교', 'book':'책'}\n",
    "print(dic.get('student'))\n",
    "print(dic.get('student', '사전에 없는 단어입니다.'))"
   ]
  },
  {
   "cell_type": "code",
   "execution_count": 46,
   "id": "d9a9347e",
   "metadata": {},
   "outputs": [
    {
     "name": "stdout",
     "output_type": "stream",
     "text": [
      "{'boy': '남자애', 'school': '학교', 'girl': '소녀'}\n"
     ]
    }
   ],
   "source": [
    "dic = { 'boy':'소년', 'school':'학교', 'book':'책'}\n",
    "dic['boy'] = '남자애'\n",
    "dic['girl'] = '소녀'\n",
    "del dic['book']\n",
    "print(dic)"
   ]
  },
  {
   "cell_type": "code",
   "execution_count": 57,
   "id": "1db53c31",
   "metadata": {},
   "outputs": [
    {
     "name": "stdout",
     "output_type": "stream",
     "text": [
      "a => 12\n",
      "b => 4\n",
      "c => 3\n",
      "d => 6\n",
      "e => 22\n",
      "f => 2\n",
      "g => 4\n",
      "h => 9\n",
      "i => 10\n",
      "j => 0\n",
      "k => 1\n",
      "l => 5\n",
      "m => 3\n",
      "n => 13\n",
      "o => 10\n",
      "p => 2\n",
      "q => 1\n",
      "r => 12\n",
      "s => 10\n",
      "t => 9\n",
      "u => 3\n",
      "v => 2\n",
      "w => 12\n",
      "x => 0\n",
      "y => 5\n",
      "z => 1\n"
     ]
    }
   ],
   "source": [
    "song = \"\"\"by the rivers of babylon, there we sat down\n",
    "yeah we wept, when we remember zion.\n",
    "when the wicked carried us away in captivity\n",
    "required from us a song\n",
    "now how shall we sing the lord's song in a strange land\"\"\"\n",
    "\n",
    "alphabet = dict()\n",
    "for c in song:\n",
    "    if c.isalpha()==False:\n",
    "        continue\n",
    "    c = c.lower()\n",
    "    if c not in alphabet:\n",
    "        alphabet[c] = 1\n",
    "    else:\n",
    "        alphabet[c] += 1\n",
    "\n",
    "for code in range(ord('a'), ord('z') + 1):\n",
    "    c = chr(code)\n",
    "    num = alphabet.get(c, 0)\n",
    "    print(c, \"=>\", num)\n",
    "\n",
    "\n"
   ]
  },
  {
   "cell_type": "code",
   "execution_count": null,
   "id": "fe227865",
   "metadata": {},
   "outputs": [],
   "source": []
  }
 ],
 "metadata": {
  "kernelspec": {
   "display_name": "Python 3",
   "language": "python",
   "name": "python3"
  },
  "language_info": {
   "codemirror_mode": {
    "name": "ipython",
    "version": 3
   },
   "file_extension": ".py",
   "mimetype": "text/x-python",
   "name": "python",
   "nbconvert_exporter": "python",
   "pygments_lexer": "ipython3",
   "version": "3.8.8"
  }
 },
 "nbformat": 4,
 "nbformat_minor": 5
}
